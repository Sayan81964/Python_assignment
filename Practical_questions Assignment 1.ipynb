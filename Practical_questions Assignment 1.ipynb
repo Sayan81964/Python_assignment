{
  "cells": [
    {
      "cell_type": "markdown",
      "source": [
        "Q1) python is a high level language interpreted programming language build by guido van rossum.\n",
        "Python is popular because of its efficiency redability and versatility as it has a wide variety of application. It takes very short time for development as it has vast pre built framework and modules.\n",
        "\n",
        "Q2)\tin python interpreter is a program that directly executes instruction line by line instead of  compiling the whole program into machine readable code.\n",
        "\n",
        "Q3) \tpre defined keywords are some of the reserved words that have a dedicated function in python programming. And cannot be used as a variable\n",
        "\n",
        "Q4)\tthe keywords cannot be used as a variable name as because they possess a special meaning in python programming (like True,False,None used for Boolean)\n",
        "\n",
        "Q5)\tmutability is the ability of the object to be modified after being created , in easy language the object that can be modified from its original state to a new updated state.\n",
        "\n",
        "Q6)\tList and tuple both store collection of objects . but list are developed for dynamic data handling and to support flexibility where as tuple are designed for data integrity (like string is also immutable)\n",
        "\n",
        "Q7)\tso, ==  is a relational operator it is used to check conditional statements ,it checks that the values are same or different . But, “is” is a identity operator that is used to check the identity that they are of same object in the memory or not\n",
        "\n",
        "Q8)\tlogical operators are [AND  – returns True only when both statements are true , OR –returns True when any one statements are true/return False when both statements are false]\n",
        "\n",
        "Q9)\tType casting is a type of converting one data type into another and it have two variation 1.implicit type casting 2.explicit type casting\n",
        "\n",
        "Q10)\timplicit type casting : it is done by python itself when python converts one data type to another itself         \n",
        "Example:\t\t\t a =5\n",
        "                   b = 2.0\n",
        " \t\t\t         C= a+b\n",
        "                   Print(c)\n",
        "      Explicit type casting : happens when a value is initialized with a different data type but later it is changed into a different data type for example\n",
        "      a =”10” # it is a string type  \n",
        "      b = int(a) #cast string to integer\n",
        "\n",
        "Q11) \tThe purpose of conditional statement is to make decisions in a program by executing certain code only if the statement is true or else the condtion is false.\n",
        "\n",
        "Q12)\tthe elif statement works  \n",
        "  1. Python checks the “if” condition first .\n",
        "\t2. if the “if” condition doesn’t works it goes for another conditions that is “elif”\n",
        "\t3. if both the above conditions are not true. It runs the else block (if it is mentioned in program)\n",
        "\n",
        "Q13)\tThe main difference between for and while loop is For : it runs for a fixed number of time / within the given range .\n",
        "\t    While : its runs as long as the given condition is true and it is done when we don’t know how much time the loop will work or we don’t know the specific range\n",
        "\n",
        "Q14)\twhile asking a password from user in a login page and works until the password is true\n",
        "password = \"\"\n",
        "while password != \"sayan123\":\n",
        "password = input(\"enter password\")\n",
        "print(\"access granted\")\n"
      ],
      "metadata": {
        "id": "F30MeJCvFJQ5"
      },
      "id": "F30MeJCvFJQ5"
    },
    {
      "cell_type": "code",
      "execution_count": null,
      "id": "327326cf",
      "metadata": {
        "id": "327326cf"
      },
      "outputs": [],
      "source": [
        "# Q1) Write a Python program to print \"Hello, World!\n",
        "\n",
        "print(\"hello world!\")\n",
        "\n",
        "'''\n",
        "answer : hello world!\n",
        "\n",
        "'''"
      ]
    },
    {
      "cell_type": "code",
      "execution_count": null,
      "id": "fcd00d85",
      "metadata": {
        "id": "fcd00d85"
      },
      "outputs": [],
      "source": [
        "# Q2) Write a Python program that displays your name and age\n",
        "user_name = input(\"enter your name : \")\n",
        "user_age  = int(input(\"enter your age : \"))\n",
        "print(\"YOUR NAME : \",user_name,'\\n',\"YOUR AGE\",user_age)\n",
        "\n",
        "\n",
        "'''\n",
        "answer :\n",
        "enter your name : harry\n",
        "enter your age : 25\n",
        "YOUR NAME :  harry\n",
        "YOUR AGE 25\n",
        "\n",
        "'''\n"
      ]
    },
    {
      "cell_type": "code",
      "execution_count": null,
      "id": "96f16ee9",
      "metadata": {
        "id": "96f16ee9"
      },
      "outputs": [],
      "source": [
        "# Q3) Write code to print all the pre-defined keywords in Python using the keyword library8\n",
        "\n",
        "import keyword   #it is a built in keyword module\n",
        "print(\"python keywords : \")\n",
        "\n",
        "for key in keyword.kwlist : #loop through which it returns all the list of reserved keyword in python where keyword is a module and kwlist is an attribute\n",
        "    print(key)\n",
        "\n",
        "\n",
        "\n",
        "\n",
        "'''\n",
        "answer : python keywords :\n",
        "False  None True and as assert  async await break class continue  def del elif  else  except  finally for\n",
        "from  global  if  import  in  is  lambda  nonlocal  not or  pass  raise return  try while with  yield\n"
      ]
    },
    {
      "cell_type": "code",
      "execution_count": null,
      "id": "0a3e266e",
      "metadata": {
        "id": "0a3e266e"
      },
      "outputs": [],
      "source": [
        "# Q4)Write a program that checks if a given word is a Python keyword.\n",
        "\n",
        "import keyword\n",
        "check_keyword = input(\"enter a python keyword to check : \")\n",
        "if (check_keyword in keyword.kwlist):\n",
        "    print(\"yes : \",check_keyword)\n",
        "else:\n",
        "    print(\"No your Keyword doesnt exist\")\n",
        "\n",
        "\n",
        "'''\n",
        "answer : enter a python keyword to check : True\n",
        "yes :  True"
      ]
    },
    {
      "cell_type": "code",
      "execution_count": null,
      "id": "d1b918f2",
      "metadata": {
        "id": "d1b918f2"
      },
      "outputs": [],
      "source": [
        "# Q5)Create a list and tuple in Python, and demonstrate how attempting to change an element works differentlyforeach\n",
        "\n",
        "\n",
        "my_list = [1, 2, 3, 4]\n",
        "my_tuple = (1, 2, 3, 4)\n",
        "\n",
        "print(\"Original List:\", my_list)\n",
        "print(\"Original Tuple:\", my_tuple)\n",
        "\n",
        "# Attempt to change an element in the list\n",
        "my_list[0] = 10\n",
        "print(\"List after changing an element:\", my_list)\n",
        "\n",
        "# Trying to change the first element\n",
        "# my_tuple[0] = 10  # This line will cause an error\n",
        "\n",
        "'''\n",
        "answer : Original List: [1, 2, 3, 4]\n",
        "Original Tuple: (1, 2, 3, 4)\n",
        "List after changing an element: [10, 2, 3, 4]\n",
        "tuple will show error as it is immutable\n",
        "'''"
      ]
    },
    {
      "cell_type": "code",
      "execution_count": null,
      "id": "68910203",
      "metadata": {
        "id": "68910203"
      },
      "outputs": [],
      "source": [
        "# Q6) Write a function to demonstrate the behavior of mutable and immutable arguments.\n",
        "\n",
        "\n",
        "# mutable and immutable\n",
        "# immutable\n",
        "s = \"hello\"\n",
        "new_s = s + \" world!\"\n",
        "print(\"original string : \",s)\n",
        "print(\"new string : \",new_s)\n",
        "# mutable\n",
        "lst = [1,2,3]\n",
        "new_lst = lst[2] = 4\n",
        "print(\"original list : \",lst)\n",
        "print(\"new list: \",new_lst)\n",
        "\n",
        "'''\n",
        "answer : original string :  hello\n",
        "new string :  hello world!\n",
        "original list :  [1, 2, 3]\n",
        "new list:  4\n",
        "'''"
      ]
    },
    {
      "cell_type": "code",
      "execution_count": null,
      "id": "bb495193",
      "metadata": {
        "id": "bb495193"
      },
      "outputs": [],
      "source": [
        "# Q7)Write a program that performs basic arithmetic operations on two user-input numbers\n",
        "\n",
        "first_input = float(input(\"enter 1st number : \"))\n",
        "second_input = float(input(\"enter 2nd number : \"))\n",
        "add = first_input+second_input\n",
        "sub = first_input-second_input\n",
        "mul = first_input*second_input\n",
        "div = first_input/second_input\n",
        "exp = first_input**second_input\n",
        "foll = first_input//second_input\n",
        "print(\"addition : \",add)\n",
        "print(\"subtraction : \",sub)\n",
        "print(\"multiplication : \",mul)\n",
        "print(\"division : \",div)\n",
        "print(\"exponential : \",exp)\n",
        "print(\"floor division : \",foll)\n",
        "\n",
        "'''\n",
        "answer : enter 1st number : 10\n",
        "enter 2nd number : 5\n",
        "addition :  15.0\n",
        "subtraction :  5.0\n",
        "multiplication :  50.0\n",
        "division :  2.0\n",
        "exponential :  100000.0\n",
        "floor division :  2.0\n",
        "'''\n",
        "\n"
      ]
    },
    {
      "cell_type": "code",
      "execution_count": null,
      "id": "1fef9785",
      "metadata": {
        "id": "1fef9785"
      },
      "outputs": [],
      "source": [
        "# Q8)Write a program to demonstrate the use of logical operators.\n",
        "\n",
        "\n",
        "a = True\n",
        "b = False\n",
        "print(a and b)\n",
        "\n",
        "a = True\n",
        "b = False\n",
        "print(a or b)\n",
        "\n",
        "a = True\n",
        "\n",
        "print(not a)\n",
        "\n",
        "'''\n",
        "answer : False\n",
        "True\n",
        "False\n",
        "'''"
      ]
    },
    {
      "cell_type": "code",
      "execution_count": null,
      "id": "0caa1150",
      "metadata": {
        "id": "0caa1150"
      },
      "outputs": [],
      "source": [
        "# Q9)Write a Python program to convert user input from string to integer, float, and boolean types.\n",
        "\n",
        "\n",
        "# Getting user input\n",
        "user_input = input(\"Enter a value: \")\n",
        "\n",
        "# Attempting to convert to int\n",
        "int_value = int(user_input) if user_input.isdigit() or (user_input[0] == '-' and user_input[1:].isdigit()) else \"Error: Cannot convert to int.\"\n",
        "\n",
        "# Attempting to convert to float\n",
        "float_value = float(user_input) if '.' in user_input or user_input.isdigit() or (user_input[0] == '-' and user_input[1:].isdigit()) else \"Error: Cannot convert to float.\"\n",
        "\n",
        "# Attempting to convert to bool\n",
        "bool_value = True if user_input.lower() == 'true' or user_input == '1' else False if user_input.lower() == 'false' or user_input == '0' else \"Error: Cannot convert to bool.\"\n",
        "\n",
        "# Printing results\n",
        "print(f\"Converted to int: {int_value}\")\n",
        "print(f\"Converted to float: {float_value}\")\n",
        "print(f\"Converted to bool: {bool_value}\")\n",
        "\n",
        "'''\n",
        "answer : Enter a value: 10\n",
        "Converted to int: 10\n",
        "Converted to float: 10.0\n",
        "Converted to bool: True\n",
        "'''"
      ]
    },
    {
      "cell_type": "code",
      "execution_count": null,
      "id": "7e780391",
      "metadata": {
        "id": "7e780391"
      },
      "outputs": [],
      "source": [
        "# Q10)Write code to demonstrate type casting with list elements.\n",
        "\n",
        "\n",
        "string_numbers = [\"1\", \"2\", \"3.5\", \"4\", \"5.0\"]\n",
        "\n",
        "# Converting string elements to integers\n",
        "int_numbers = [int(num) for num in string_numbers if num.isdigit()]\n",
        "\n",
        "# Converting string elements to floats\n",
        "float_numbers = [float(num) for num in string_numbers]\n",
        "\n",
        "# Printing the results\n",
        "print(\"Original list:\", string_numbers)\n",
        "print(\"Converted to integers:\", int_numbers)\n",
        "print(\"Converted to floats:\", float_numbers)\n",
        "\n",
        "'''\n",
        "answer : Original list: ['1', '2', '3.5', '4', '5.0']\n",
        "Converted to integers: [1, 2, 4]\n",
        "Converted to floats: [1.0, 2.0, 3.5,4.0,5.0]\n",
        "'''"
      ]
    },
    {
      "cell_type": "code",
      "execution_count": null,
      "id": "ac35b4cc",
      "metadata": {
        "id": "ac35b4cc"
      },
      "outputs": [],
      "source": [
        "# Q11)Write a program that checks if a number is positive, negative, or zero.\n",
        "\n",
        "\n",
        "number = float(input(\"enter a number\"))\n",
        "if number > 0:\n",
        "  print(\"positive\",number)\n",
        "elif number < 0:\n",
        "  print(\"negative\",number)\n",
        "else:\n",
        "  print(\"zero\")\n",
        "\n",
        "  '''\n",
        "  answer : enter a number10\n",
        "  positive 10\n",
        "  '''"
      ]
    },
    {
      "cell_type": "code",
      "execution_count": null,
      "id": "d9dd013b",
      "metadata": {
        "id": "d9dd013b"
      },
      "outputs": [],
      "source": [
        "# 12. Write a for loop to print numbers from 1 to 10.\n",
        "\n",
        "\n",
        "for i in range (1,11):\n",
        "  print(i)\n",
        "  i +=1\n",
        "\n",
        "  '''\n",
        "  answer : 1\n",
        "  2\n",
        "  3\n",
        "  4\n",
        "  5\n",
        "  6\n",
        "  7\n",
        "  8\n",
        "  9\n",
        "  10\n",
        "  '''\n"
      ]
    },
    {
      "cell_type": "code",
      "execution_count": null,
      "id": "58b5eb53",
      "metadata": {
        "id": "58b5eb53"
      },
      "outputs": [],
      "source": [
        "# 13. Write a Python program to find the sum of all even numbers between 1 and 50.\n",
        "\n",
        "\n",
        "for i in range (1,51):\n",
        "  if(i%2==0):\n",
        "    print(i)\n",
        "    i += 1\n",
        "\n",
        "  '''\n",
        "  answer :\n",
        "2\n",
        "4\n",
        "6\n",
        "8\n",
        "10\n",
        "12\n",
        "14\n",
        "16\n",
        "18\n",
        "20\n",
        "22\n",
        "24\n",
        "26\n",
        "28\n",
        "30\n",
        "32\n",
        "34\n",
        "36\n",
        "38\n",
        "40\n",
        "42\n",
        "44\n",
        "46\n",
        "48\n",
        "50\n",
        "'''"
      ]
    },
    {
      "cell_type": "code",
      "execution_count": null,
      "id": "3ba8339a",
      "metadata": {
        "id": "3ba8339a"
      },
      "outputs": [],
      "source": [
        "# 14. Write a program to reverse a string using a while loop.\n",
        "\n",
        "\n",
        "user = input(\"enter a string : \")\n",
        "print(user)\n",
        "while user:\n",
        "    print(user[-1])\n",
        "    user = user[:-1]\n",
        "\n",
        "  '''\n",
        "  answer : enter a string : hello\n",
        "  hello\n",
        "  o\n",
        "  l\n",
        "  l\n",
        "  e\n",
        "  h\n",
        "  '''"
      ]
    },
    {
      "cell_type": "code",
      "execution_count": null,
      "id": "4f41612a",
      "metadata": {
        "id": "4f41612a"
      },
      "outputs": [],
      "source": [
        "# 15. Write a Python program to calculate the factorial of a number provided by the user using a while loop\n",
        "\n",
        "\n",
        "# 5! = 5*4*3*2*1\n",
        "user = int(input(\"enter the number for factorial : \"))\n",
        "i = 1\n",
        "while user:\n",
        "    i= i*user\n",
        "    user = user-1\n",
        "print(i)\n",
        "\n",
        "# Getting user input\n",
        "number = int(input(\"Enter a positive integer: \"))\n",
        "\n",
        "# Initialize variables\n",
        "factorial = 1\n",
        "count = 1\n",
        "\n",
        "# Calculate factorial using a while loop\n",
        "while count <= number:\n",
        "    factorial *= count\n",
        "    count += 1\n",
        "# Printing the result\n",
        "print(f\"The factorial of {number} is: {factorial}\")\n",
        "\n",
        "\n",
        "'''\n",
        "answer : enter the number for factorial : 5\n",
        "120\n",
        "Enter a positive integer: 5\n",
        "The factorial of 5 is: 120\n",
        "'''"
      ]
    }
  ],
  "metadata": {
    "kernelspec": {
      "display_name": "Python 3",
      "language": "python",
      "name": "python3"
    },
    "language_info": {
      "codemirror_mode": {
        "name": "ipython",
        "version": 3
      },
      "file_extension": ".py",
      "mimetype": "text/x-python",
      "name": "python",
      "nbconvert_exporter": "python",
      "pygments_lexer": "ipython3",
      "version": "3.13.5"
    },
    "colab": {
      "provenance": []
    }
  },
  "nbformat": 4,
  "nbformat_minor": 5
}